{
 "cells": [
  {
   "cell_type": "code",
   "execution_count": null,
   "metadata": {},
   "outputs": [],
   "source": [
    "from flask import Flask, render_template\n",
    "\n",
    "app = Flask(__name__)\n",
    "\n",
    "@app.route(\"/\")\n",
    "def welcome():\n",
    "    return render_template(\"home.html\")\n",
    "\n",
    "@app.route(\"/home\")\n",
    "def home():\n",
    "    return render_template(\"home.html\")\n",
    "\n",
    "@app.route(\"/home.html\")\n",
    "def homeHTML():\n",
    "    return render_template(\"home.html\")\n",
    "\n",
    "@app.route(\"/plots\")\n",
    "def charts():\n",
    "    return render_template(\"plots.html\")\n",
    "\n",
    "@app.route(\"/plots.html\")\n",
    "def chartsHTML():\n",
    "    return render_template(\"plots.html\")\n",
    "\n",
    "@app.route(\"/map\")\n",
    "def map():\n",
    "    return render_template(\"map.html\")\n",
    "\n",
    "@app.route(\"/map.html\")\n",
    "def mapHTML():\n",
    "    return render_template(\"map.html\")\n",
    "\n",
    "# @app.route(\"/sources\")\n",
    "# def sources():\n",
    "#     return render_template(\"sources.html\")\n",
    "\n",
    "# @app.route(\"/sources.html\")\n",
    "# def sourcesHTML():\n",
    "    # return render_template(\"sources.html\")\n",
    "\n",
    "if __name__ == \"__main__\":\n",
    "    app.run()\n",
    "\n"
   ]
  }
 ],
 "metadata": {
  "language_info": {
   "name": "python"
  },
  "orig_nbformat": 4
 },
 "nbformat": 4,
 "nbformat_minor": 2
}
